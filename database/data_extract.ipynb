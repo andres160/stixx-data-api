{
 "cells": [
  {
   "cell_type": "code",
   "execution_count": null,
   "id": "5a7fca57",
   "metadata": {},
   "outputs": [],
   "source": [
    "import json\n",
    "import pandas as pd\n",
    "import sqlite3"
   ]
  },
  {
   "cell_type": "code",
   "execution_count": null,
   "id": "c7c0da6d",
   "metadata": {},
   "outputs": [],
   "source": [
    "con = sqlite3.connect('poison_ivy.db')\n",
    "c = con.cursor()"
   ]
  },
  {
   "cell_type": "code",
   "execution_count": null,
   "id": "774afb31",
   "metadata": {},
   "outputs": [],
   "source": [
    "f = open('poisonivy.json')\n",
    "data = json.load(f)"
   ]
  },
  {
   "cell_type": "code",
   "execution_count": null,
   "id": "567598c5",
   "metadata": {
    "scrolled": false
   },
   "outputs": [],
   "source": [
    "items = pd.json_normalize(data['objects']).set_index('id')\n",
    "items.head()"
   ]
  },
  {
   "cell_type": "code",
   "execution_count": null,
   "id": "0fd018ea",
   "metadata": {},
   "outputs": [],
   "source": [
    "items.groupby(['type']).count()"
   ]
  },
  {
   "cell_type": "code",
   "execution_count": null,
   "id": "9941c9bd",
   "metadata": {
    "scrolled": true
   },
   "outputs": [],
   "source": [
    "attack_pattern = items.loc[(items['type'] == 'attack-pattern')]\n",
    "attack_pattern.index.names = ['attack_pattern_id']\n",
    "to_drop = ['type', 'is_family', 'malware_types',\n",
    "'identity_class', 'sectors', 'first_seen', 'pattern_type', 'pattern', 'indicator_types', 'valid_from', 'report_types', 'published', 'object_refs', 'relationship_type', 'source_ref', 'target_ref', 'created_by_ref', 'external_references', 'kill_chain_phases']\n",
    "attack_pattern.drop(to_drop, inplace=True, axis=1)\n",
    "attack_pattern"
   ]
  },
  {
   "cell_type": "code",
   "execution_count": null,
   "id": "283834d2",
   "metadata": {},
   "outputs": [],
   "source": [
    "campaign = items.loc[(items['type'] == ('campaign'))]\n",
    "campaign.index.names = ['campaign_id']\n",
    "to_drop = ['type','is_family', 'malware_types',\n",
    "'identity_class', 'sectors', 'pattern_type', 'pattern', 'indicator_types', 'valid_from', 'report_types', 'published', 'object_refs', 'relationship_type', 'source_ref', 'target_ref', 'external_references', 'kill_chain_phases', 'created_by_ref']\n",
    "campaign.drop(to_drop, inplace=True, axis=1)\n",
    "campaign"
   ]
  },
  {
   "cell_type": "code",
   "execution_count": null,
   "id": "7609537f",
   "metadata": {
    "scrolled": false
   },
   "outputs": [],
   "source": [
    "course_of_action = items.loc[(items['type'] == 'course-of-action')]\n",
    "course_of_action.index.names = ['course_of_action_id']\n",
    "to_drop = ['type','is_family', 'malware_types',\n",
    "'identity_class', 'sectors', 'first_seen', 'pattern_type', 'pattern', 'indicator_types', 'valid_from', 'report_types', 'published', 'object_refs', 'relationship_type', 'source_ref', 'target_ref', 'kill_chain_phases', 'external_references']\n",
    "course_of_action.drop(to_drop, inplace=True, axis=1)\n",
    "course_of_action"
   ]
  },
  {
   "cell_type": "code",
   "execution_count": null,
   "id": "f93b7e1a",
   "metadata": {
    "scrolled": true
   },
   "outputs": [],
   "source": [
    "identity = items.loc[(items['type'] == 'identity')]\n",
    "identity.index.names = ['identity_id']\n",
    "to_drop = ['type','is_family', 'malware_types',\n",
    "'first_seen', 'pattern_type', 'pattern', 'indicator_types', 'valid_from', 'report_types', 'published', 'object_refs', 'relationship_type', 'source_ref', 'target_ref', 'external_references', 'kill_chain_phases', 'created_by_ref', 'description', 'sectors']\n",
    "identity.drop(to_drop, inplace=True, axis=1)\n",
    "identity"
   ]
  },
  {
   "cell_type": "code",
   "execution_count": null,
   "id": "8fe7ed92",
   "metadata": {
    "scrolled": true
   },
   "outputs": [],
   "source": [
    "indicator = items.loc[(items['type'] == 'indicator')]\n",
    "indicator.index.names = ['indicator_id']\n",
    "to_drop = ['type','is_family', 'malware_types',\n",
    "'identity_class', 'sectors', 'first_seen', 'report_types', 'published', 'object_refs', 'relationship_type', 'source_ref', 'target_ref', 'created_by_ref', 'external_references', 'kill_chain_phases', 'pattern', 'indicator_types']\n",
    "indicator.drop(to_drop, inplace=True, axis=1)\n",
    "indicator"
   ]
  },
  {
   "cell_type": "code",
   "execution_count": null,
   "id": "3da945e5",
   "metadata": {
    "scrolled": true
   },
   "outputs": [],
   "source": [
    "malware = items.loc[(items['type'] == 'malware')]\n",
    "malware.index.names = ['malware_id']\n",
    "to_drop = ['type','identity_class', 'sectors', 'first_seen', 'pattern_type', 'pattern', 'indicator_types', 'valid_from', 'report_types', 'published', 'object_refs', 'relationship_type', 'source_ref', 'target_ref', 'created_by_ref', 'external_references', 'kill_chain_phases', 'malware_types']\n",
    "malware.drop(to_drop, inplace=True, axis=1)\n",
    "malware"
   ]
  },
  {
   "cell_type": "code",
   "execution_count": null,
   "id": "bf55174e",
   "metadata": {
    "scrolled": true
   },
   "outputs": [],
   "source": [
    "relationship = items.loc[(items['type'] == 'relationship')]\n",
    "relationship.index.names = ['relationship_id']\n",
    "to_drop = ['name', 'description', 'type', 'is_family', 'malware_types', 'identity_class', 'sectors', 'first_seen', 'pattern_type', 'pattern', 'indicator_types', 'valid_from', 'report_types', 'published', 'object_refs', 'created_by_ref', 'external_references', 'kill_chain_phases']\n",
    "relationship.drop(to_drop, inplace=True, axis=1)\n",
    "relationship"
   ]
  },
  {
   "cell_type": "code",
   "execution_count": null,
   "id": "d5d3cf64",
   "metadata": {},
   "outputs": [],
   "source": [
    "report = items.loc[(items['type'] == 'report')]\n",
    "report.index.names = ['report_id']\n",
    "to_drop = ['type', 'is_family', 'malware_types',\n",
    "'identity_class', 'sectors', 'first_seen', 'pattern_type', 'pattern', 'indicator_types', 'valid_from', 'relationship_type', 'source_ref', 'target_ref', 'created_by_ref', 'external_references', 'kill_chain_phases', 'report_types', 'object_refs']\n",
    "report.drop(to_drop, inplace=True, axis=1)\n",
    "report"
   ]
  },
  {
   "cell_type": "code",
   "execution_count": null,
   "id": "0989344e",
   "metadata": {
    "scrolled": false
   },
   "outputs": [],
   "source": [
    "vulnerability = items.loc[(items['type'] == 'vulnerability')]\n",
    "vulnerability.index.names = ['vulnerability_id']\n",
    "to_drop = ['type', 'is_family', 'malware_types',\n",
    "'identity_class', 'sectors', 'first_seen', 'pattern_type', 'pattern', 'indicator_types', 'valid_from', 'relationship_type', 'source_ref', 'target_ref', 'created_by_ref', 'external_references', 'kill_chain_phases', 'report_types', 'published', 'object_refs']\n",
    "vulnerability.drop(to_drop, inplace=True, axis=1)\n",
    "vulnerability"
   ]
  },
  {
   "cell_type": "code",
   "execution_count": null,
   "id": "76c1cc0a",
   "metadata": {},
   "outputs": [],
   "source": [
    "vulnerability.to_sql(\"vulnerabilities\", con, if_exists=\"replace\")"
   ]
  },
  {
   "cell_type": "code",
   "execution_count": null,
   "id": "6da67c37",
   "metadata": {},
   "outputs": [],
   "source": [
    "attack_pattern.to_sql(\"attack_pattern\", con, if_exists=\"replace\")"
   ]
  },
  {
   "cell_type": "code",
   "execution_count": null,
   "id": "a6467375",
   "metadata": {},
   "outputs": [],
   "source": [
    "campaign.to_sql(\"campaign\", con, if_exists=\"replace\")"
   ]
  },
  {
   "cell_type": "code",
   "execution_count": null,
   "id": "79c13b77",
   "metadata": {},
   "outputs": [],
   "source": [
    "course_of_action.to_sql(\"course_of_action\", con, if_exists=\"replace\")"
   ]
  },
  {
   "cell_type": "code",
   "execution_count": null,
   "id": "d857d5f8",
   "metadata": {},
   "outputs": [],
   "source": [
    "identity.to_sql(\"identity\", con, if_exists=\"replace\")"
   ]
  },
  {
   "cell_type": "code",
   "execution_count": null,
   "id": "00682a0c",
   "metadata": {},
   "outputs": [],
   "source": [
    "indicator.to_sql(\"indicator\", con, if_exists=\"replace\")"
   ]
  },
  {
   "cell_type": "code",
   "execution_count": null,
   "id": "b4d6b914",
   "metadata": {},
   "outputs": [],
   "source": [
    "malware.to_sql(\"malware\", con, if_exists=\"replace\")"
   ]
  },
  {
   "cell_type": "code",
   "execution_count": null,
   "id": "6b310111",
   "metadata": {},
   "outputs": [],
   "source": [
    "relationship.to_sql(\"relationship\", con, if_exists=\"replace\")"
   ]
  },
  {
   "cell_type": "code",
   "execution_count": null,
   "id": "01c7618e",
   "metadata": {},
   "outputs": [],
   "source": [
    "report.to_sql(\"report\", con, if_exists=\"replace\")"
   ]
  },
  {
   "cell_type": "code",
   "execution_count": 278,
   "id": "67381ea1",
   "metadata": {},
   "outputs": [],
   "source": [
    "con.close()"
   ]
  },
  {
   "cell_type": "code",
   "execution_count": null,
   "id": "c051a29e",
   "metadata": {},
   "outputs": [],
   "source": []
  }
 ],
 "metadata": {
  "kernelspec": {
   "display_name": "Python 3 (ipykernel)",
   "language": "python",
   "name": "python3"
  },
  "language_info": {
   "codemirror_mode": {
    "name": "ipython",
    "version": 3
   },
   "file_extension": ".py",
   "mimetype": "text/x-python",
   "name": "python",
   "nbconvert_exporter": "python",
   "pygments_lexer": "ipython3",
   "version": "3.8.9"
  }
 },
 "nbformat": 4,
 "nbformat_minor": 5
}
